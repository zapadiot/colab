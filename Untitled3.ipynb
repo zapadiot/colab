{
  "nbformat": 4,
  "nbformat_minor": 0,
  "metadata": {
    "colab": {
      "provenance": [],
      "authorship_tag": "ABX9TyP2pdXT9Aqg361I5DSAtnfa",
      "include_colab_link": true
    },
    "kernelspec": {
      "name": "python3",
      "display_name": "Python 3"
    },
    "language_info": {
      "name": "python"
    }
  },
  "cells": [
    {
      "cell_type": "markdown",
      "metadata": {
        "id": "view-in-github",
        "colab_type": "text"
      },
      "source": [
        "<a href=\"https://colab.research.google.com/github/zapadiot/colab/blob/main/Untitled3.ipynb\" target=\"_parent\"><img src=\"https://colab.research.google.com/assets/colab-badge.svg\" alt=\"Open In Colab\"/></a>"
      ]
    },
    {
      "cell_type": "code",
      "source": [
        "!python3.10 model_trainer.py parsed_chunks.json"
      ],
      "metadata": {
        "colab": {
          "base_uri": "https://localhost:8080/"
        },
        "id": "9sNtuJF9ic8D",
        "outputId": "d64cfda6-648e-49df-9dbb-97c41ab3e7d1"
      },
      "execution_count": null,
      "outputs": [
        {
          "output_type": "stream",
          "name": "stdout",
          "text": [
            "2024-10-30 17:50:43.136644: E external/local_xla/xla/stream_executor/cuda/cuda_fft.cc:485] Unable to register cuFFT factory: Attempting to register factory for plugin cuFFT when one has already been registered\n",
            "2024-10-30 17:50:43.182008: E external/local_xla/xla/stream_executor/cuda/cuda_dnn.cc:8454] Unable to register cuDNN factory: Attempting to register factory for plugin cuDNN when one has already been registered\n",
            "2024-10-30 17:50:43.195019: E external/local_xla/xla/stream_executor/cuda/cuda_blas.cc:1452] Unable to register cuBLAS factory: Attempting to register factory for plugin cuBLAS when one has already been registered\n",
            "2024-10-30 17:50:43.230752: I tensorflow/core/platform/cpu_feature_guard.cc:210] This TensorFlow binary is optimized to use available CPU instructions in performance-critical operations.\n",
            "To enable the following instructions: AVX2 FMA, in other operations, rebuild TensorFlow with the appropriate compiler flags.\n",
            "2024-10-30 17:50:45.776604: W tensorflow/compiler/tf2tensorrt/utils/py_utils.cc:38] TF-TRT Warning: Could not find TensorRT\n",
            "INFO:__main__:Loaded 44412 text chunks from parsed_chunks.json\n",
            "DEBUG:__main__:Starting model fine-tuning\n",
            "DEBUG:urllib3.connectionpool:Starting new HTTPS connection (1): huggingface.co:443\n",
            "DEBUG:urllib3.connectionpool:https://huggingface.co:443 \"HEAD /gpt2/resolve/main/tokenizer_config.json HTTP/11\" 200 0\n",
            "DEBUG:filelock:Attempting to acquire lock 134323164938144 on /root/.cache/huggingface/hub/.locks/models--gpt2/be4d21d94f3b4687e5a54d84bf6ab46ed0f8defd.lock\n",
            "DEBUG:filelock:Lock 134323164938144 acquired on /root/.cache/huggingface/hub/.locks/models--gpt2/be4d21d94f3b4687e5a54d84bf6ab46ed0f8defd.lock\n",
            "DEBUG:urllib3.connectionpool:https://huggingface.co:443 \"GET /gpt2/resolve/main/tokenizer_config.json HTTP/11\" 200 26\n",
            "tokenizer_config.json: 100% 26.0/26.0 [00:00<00:00, 102kB/s]\n",
            "DEBUG:filelock:Attempting to release lock 134323164938144 on /root/.cache/huggingface/hub/.locks/models--gpt2/be4d21d94f3b4687e5a54d84bf6ab46ed0f8defd.lock\n",
            "DEBUG:filelock:Lock 134323164938144 released on /root/.cache/huggingface/hub/.locks/models--gpt2/be4d21d94f3b4687e5a54d84bf6ab46ed0f8defd.lock\n",
            "DEBUG:urllib3.connectionpool:https://huggingface.co:443 \"HEAD /gpt2/resolve/main/config.json HTTP/11\" 200 0\n",
            "DEBUG:filelock:Attempting to acquire lock 134323164936608 on /root/.cache/huggingface/hub/.locks/models--gpt2/10c66461e4c109db5a2196bff4bb59be30396ed8.lock\n",
            "DEBUG:filelock:Lock 134323164936608 acquired on /root/.cache/huggingface/hub/.locks/models--gpt2/10c66461e4c109db5a2196bff4bb59be30396ed8.lock\n",
            "DEBUG:urllib3.connectionpool:https://huggingface.co:443 \"GET /gpt2/resolve/main/config.json HTTP/11\" 200 665\n",
            "config.json: 100% 665/665 [00:00<00:00, 2.52MB/s]\n",
            "DEBUG:filelock:Attempting to release lock 134323164936608 on /root/.cache/huggingface/hub/.locks/models--gpt2/10c66461e4c109db5a2196bff4bb59be30396ed8.lock\n",
            "DEBUG:filelock:Lock 134323164936608 released on /root/.cache/huggingface/hub/.locks/models--gpt2/10c66461e4c109db5a2196bff4bb59be30396ed8.lock\n",
            "DEBUG:urllib3.connectionpool:https://huggingface.co:443 \"HEAD /gpt2/resolve/main/vocab.json HTTP/11\" 200 0\n",
            "DEBUG:filelock:Attempting to acquire lock 134323165296288 on /root/.cache/huggingface/hub/.locks/models--gpt2/1f1d9aaca301414e7f6c9396df506798ff4eb9a6.lock\n",
            "DEBUG:filelock:Lock 134323165296288 acquired on /root/.cache/huggingface/hub/.locks/models--gpt2/1f1d9aaca301414e7f6c9396df506798ff4eb9a6.lock\n",
            "DEBUG:urllib3.connectionpool:https://huggingface.co:443 \"GET /gpt2/resolve/main/vocab.json HTTP/11\" 200 1042301\n",
            "vocab.json: 100% 1.04M/1.04M [00:00<00:00, 1.48MB/s]\n",
            "DEBUG:filelock:Attempting to release lock 134323165296288 on /root/.cache/huggingface/hub/.locks/models--gpt2/1f1d9aaca301414e7f6c9396df506798ff4eb9a6.lock\n",
            "DEBUG:filelock:Lock 134323165296288 released on /root/.cache/huggingface/hub/.locks/models--gpt2/1f1d9aaca301414e7f6c9396df506798ff4eb9a6.lock\n",
            "DEBUG:urllib3.connectionpool:https://huggingface.co:443 \"HEAD /gpt2/resolve/main/merges.txt HTTP/11\" 200 0\n",
            "DEBUG:filelock:Attempting to acquire lock 134323165298256 on /root/.cache/huggingface/hub/.locks/models--gpt2/226b0752cac7789c48f0cb3ec53eda48b7be36cc.lock\n",
            "DEBUG:filelock:Lock 134323165298256 acquired on /root/.cache/huggingface/hub/.locks/models--gpt2/226b0752cac7789c48f0cb3ec53eda48b7be36cc.lock\n",
            "DEBUG:urllib3.connectionpool:https://huggingface.co:443 \"GET /gpt2/resolve/main/merges.txt HTTP/11\" 200 456318\n",
            "merges.txt: 100% 456k/456k [00:00<00:00, 872kB/s]\n",
            "DEBUG:filelock:Attempting to release lock 134323165298256 on /root/.cache/huggingface/hub/.locks/models--gpt2/226b0752cac7789c48f0cb3ec53eda48b7be36cc.lock\n",
            "DEBUG:filelock:Lock 134323165298256 released on /root/.cache/huggingface/hub/.locks/models--gpt2/226b0752cac7789c48f0cb3ec53eda48b7be36cc.lock\n",
            "DEBUG:urllib3.connectionpool:https://huggingface.co:443 \"HEAD /gpt2/resolve/main/tokenizer.json HTTP/11\" 200 0\n",
            "DEBUG:filelock:Attempting to acquire lock 134323165297152 on /root/.cache/huggingface/hub/.locks/models--gpt2/4b988bccc9dc5adacd403c00b4704976196548f8.lock\n",
            "DEBUG:filelock:Lock 134323165297152 acquired on /root/.cache/huggingface/hub/.locks/models--gpt2/4b988bccc9dc5adacd403c00b4704976196548f8.lock\n",
            "DEBUG:urllib3.connectionpool:https://huggingface.co:443 \"GET /gpt2/resolve/main/tokenizer.json HTTP/11\" 200 1355256\n",
            "tokenizer.json: 100% 1.36M/1.36M [00:00<00:00, 1.55MB/s]\n",
            "DEBUG:filelock:Attempting to release lock 134323165297152 on /root/.cache/huggingface/hub/.locks/models--gpt2/4b988bccc9dc5adacd403c00b4704976196548f8.lock\n",
            "DEBUG:filelock:Lock 134323165297152 released on /root/.cache/huggingface/hub/.locks/models--gpt2/4b988bccc9dc5adacd403c00b4704976196548f8.lock\n",
            "DEBUG:urllib3.connectionpool:https://huggingface.co:443 \"HEAD /gpt2/resolve/main/added_tokens.json HTTP/11\" 404 0\n",
            "DEBUG:urllib3.connectionpool:https://huggingface.co:443 \"HEAD /gpt2/resolve/main/special_tokens_map.json HTTP/11\" 404 0\n",
            "/usr/local/lib/python3.10/dist-packages/transformers/tokenization_utils_base.py:1601: FutureWarning: `clean_up_tokenization_spaces` was not set. It will be set to `True` by default. This behavior will be depracted in transformers v4.45, and will be then set to `False` by default. For more details check this issue: https://github.com/huggingface/transformers/issues/31884\n",
            "  warnings.warn(\n",
            "DEBUG:urllib3.connectionpool:https://huggingface.co:443 \"HEAD /gpt2/resolve/main/config.json HTTP/11\" 200 0\n",
            "DEBUG:urllib3.connectionpool:https://huggingface.co:443 \"HEAD /gpt2/resolve/main/adapter_config.json HTTP/11\" 404 0\n",
            "DEBUG:urllib3.connectionpool:https://huggingface.co:443 \"HEAD /gpt2/resolve/main/model.safetensors HTTP/11\" 302 0\n",
            "DEBUG:filelock:Attempting to acquire lock 134323203701776 on /root/.cache/huggingface/hub/.locks/models--gpt2/248dfc3911869ec493c76e65bf2fcf7f615828b0254c12b473182f0f81d3a707.lock\n",
            "DEBUG:filelock:Lock 134323203701776 acquired on /root/.cache/huggingface/hub/.locks/models--gpt2/248dfc3911869ec493c76e65bf2fcf7f615828b0254c12b473182f0f81d3a707.lock\n",
            "DEBUG:urllib3.connectionpool:Starting new HTTPS connection (1): cdn-lfs.hf.co:443\n",
            "DEBUG:urllib3.connectionpool:https://cdn-lfs.hf.co:443 \"GET /gpt2/248dfc3911869ec493c76e65bf2fcf7f615828b0254c12b473182f0f81d3a707?response-content-disposition=inline%3B+filename*%3DUTF-8%27%27model.safetensors%3B+filename%3D%22model.safetensors%22%3B&Expires=1730569864&Policy=eyJTdGF0ZW1lbnQiOlt7IkNvbmRpdGlvbiI6eyJEYXRlTGVzc1RoYW4iOnsiQVdTOkVwb2NoVGltZSI6MTczMDU2OTg2NH19LCJSZXNvdXJjZSI6Imh0dHBzOi8vY2RuLWxmcy5oZi5jby9ncHQyLzI0OGRmYzM5MTE4NjllYzQ5M2M3NmU2NWJmMmZjZjdmNjE1ODI4YjAyNTRjMTJiNDczMTgyZjBmODFkM2E3MDc~cmVzcG9uc2UtY29udGVudC1kaXNwb3NpdGlvbj0qIn1dfQ__&Signature=li~OwrR~UEaJFyFIHrjuPvNdgj0xPl23h8eOmNvjK7Y45ld58D3Va7WPsU1zNoFmIViukiZFuooULFf-~XcNupNLh4ICbv9QXOFDj5O0ZRXfND-UvvNSdTFjvSkahvNw1bIcRkFcqXqbr-7avsmF4LLj3-NGhJPVuME9BoUYpt4kCSz51LwkwhxtxaAUg9ZwbeIB3SE46Q2TZLsvgHzNR7zn1miKz2fjACvg8JD8cu7mNnLJQodu9f0HdW7LfuRgXBvs6xj3qoLcvNpgl~gn2Kp1E-ig8VnFRQPbuoXJ9jqpyFMKcwOsG05OfblKlxfHZlrlBIJHGs2rbbqEP~zDEg__&Key-Pair-Id=K3RPWS32NSSJCE HTTP/11\" 200 548105171\n",
            "model.safetensors: 100% 548M/548M [00:02<00:00, 231MB/s]\n",
            "DEBUG:filelock:Attempting to release lock 134323203701776 on /root/.cache/huggingface/hub/.locks/models--gpt2/248dfc3911869ec493c76e65bf2fcf7f615828b0254c12b473182f0f81d3a707.lock\n",
            "DEBUG:filelock:Lock 134323203701776 released on /root/.cache/huggingface/hub/.locks/models--gpt2/248dfc3911869ec493c76e65bf2fcf7f615828b0254c12b473182f0f81d3a707.lock\n",
            "DEBUG:urllib3.connectionpool:https://huggingface.co:443 \"HEAD /gpt2/resolve/main/generation_config.json HTTP/11\" 200 0\n",
            "DEBUG:filelock:Attempting to acquire lock 134323203695200 on /root/.cache/huggingface/hub/.locks/models--gpt2/3dc481ecc3b2c47a06ab4e20dba9d7f4b447bdf3.lock\n",
            "DEBUG:filelock:Lock 134323203695200 acquired on /root/.cache/huggingface/hub/.locks/models--gpt2/3dc481ecc3b2c47a06ab4e20dba9d7f4b447bdf3.lock\n",
            "DEBUG:urllib3.connectionpool:https://huggingface.co:443 \"GET /gpt2/resolve/main/generation_config.json HTTP/11\" 200 124\n",
            "generation_config.json: 100% 124/124 [00:00<00:00, 629kB/s]\n",
            "DEBUG:filelock:Attempting to release lock 134323203695200 on /root/.cache/huggingface/hub/.locks/models--gpt2/3dc481ecc3b2c47a06ab4e20dba9d7f4b447bdf3.lock\n",
            "DEBUG:filelock:Lock 134323203695200 released on /root/.cache/huggingface/hub/.locks/models--gpt2/3dc481ecc3b2c47a06ab4e20dba9d7f4b447bdf3.lock\n",
            "Map: 100% 44412/44412 [02:25<00:00, 305.53 examples/s]\n",
            "DEBUG:git.cmd:Popen(['git', 'version'], cwd=/content, stdin=None, shell=False, universal_newlines=False)\n",
            "DEBUG:git.cmd:Popen(['git', 'version'], cwd=/content, stdin=None, shell=False, universal_newlines=False)\n",
            "DEBUG:wandb.docker.auth:Trying paths: ['/root/.docker/config.json', '/root/.dockercfg']\n",
            "DEBUG:wandb.docker.auth:No config file found\n",
            "INFO:__main__:Fine-tuning the model...\n",
            "\u001b[34m\u001b[1mwandb\u001b[0m: \u001b[33mWARNING\u001b[0m The `run_name` is currently set to the same value as `TrainingArguments.output_dir`. If this was not intended, please specify a different run name by setting the `TrainingArguments.run_name` parameter.\n",
            "DEBUG:wandb.sdk.lib.gitlib:git repository is invalid\n",
            "\u001b[34m\u001b[1mwandb\u001b[0m: Using wandb-core as the SDK backend. Please refer to https://wandb.me/wandb-core for more information.\n",
            "\u001b[34m\u001b[1mwandb\u001b[0m: (1) Create a W&B account\n",
            "\u001b[34m\u001b[1mwandb\u001b[0m: (2) Use an existing W&B account\n",
            "\u001b[34m\u001b[1mwandb\u001b[0m: (3) Don't visualize my results\n",
            "\u001b[34m\u001b[1mwandb\u001b[0m: Enter your choice: 3\n",
            "\u001b[34m\u001b[1mwandb\u001b[0m: You chose \"Don't visualize my results\"\n",
            "\u001b[34m\u001b[1mwandb\u001b[0m: Tracking run with wandb version 0.18.5\n",
            "\u001b[34m\u001b[1mwandb\u001b[0m: W&B syncing is set to \u001b[1m`offline`\u001b[0m in this directory.  \n",
            "\u001b[34m\u001b[1mwandb\u001b[0m: Run \u001b[1m`wandb online`\u001b[0m or set \u001b[1mWANDB_MODE=online\u001b[0m to enable cloud syncing.\n",
            "  0% 0/11103 [00:00<?, ?it/s]1\n",
            "\n",
            "\n",
            "\n",
            "  0% 5/11103 [04:15<154:34:13, 50.14s/it]"
          ]
        }
      ]
    },
    {
      "cell_type": "code",
      "source": [],
      "metadata": {
        "id": "kxhQwHRGkohE"
      },
      "execution_count": null,
      "outputs": []
    }
  ]
}